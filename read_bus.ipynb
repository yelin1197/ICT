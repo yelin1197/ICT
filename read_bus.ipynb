{
  "nbformat": 4,
  "nbformat_minor": 0,
  "metadata": {
    "colab": {
      "provenance": [],
      "authorship_tag": "ABX9TyPyLlLdS89qBmY38XTk5bRo",
      "include_colab_link": true
    },
    "kernelspec": {
      "name": "python3",
      "display_name": "Python 3"
    },
    "language_info": {
      "name": "python"
    }
  },
  "cells": [
    {
      "cell_type": "markdown",
      "metadata": {
        "id": "view-in-github",
        "colab_type": "text"
      },
      "source": [
        "<a href=\"https://colab.research.google.com/github/yelin1197/ICT/blob/main/read_bus.ipynb\" target=\"_parent\"><img src=\"https://colab.research.google.com/assets/colab-badge.svg\" alt=\"Open In Colab\"/></a>"
      ]
    },
    {
      "cell_type": "code",
      "execution_count": 3,
      "metadata": {
        "colab": {
          "base_uri": "https://localhost:8080/"
        },
        "id": "ii8NrmWqf52x",
        "outputId": "49f4d791-65a3-47d0-f33c-5b847b2639da"
      },
      "outputs": [
        {
          "output_type": "stream",
          "name": "stdout",
          "text": [
            "<?xml version=\"1.0\" encoding=\"UTF-8\" standalone=\"yes\"?><response><comMsgHeader/><msgHeader><queryTime>2024-03-17 17:22:17.290</queryTime><resultCode>0</resultCode><resultMessage>정상적으로 처리되었습니다.</resultMessage></msgHeader><msgBody><busLocationList><endBus>0</endBus><lowPlate>0</lowPlate><plateNo>경기70아8795</plateNo><plateType>3</plateType><remainSeatCnt>42</remainSeatCnt><routeId>204000070</routeId><stationId>206000007</stationId><stationSeq>5</stationSeq></busLocationList><busLocationList><endBus>0</endBus><lowPlate>0</lowPlate><plateNo>경기70아6461</plateNo><plateType>3</plateType><remainSeatCnt>42</remainSeatCnt><routeId>204000070</routeId><stationId>206000554</stationId><stationSeq>62</stationSeq></busLocationList><busLocationList><endBus>0</endBus><lowPlate>0</lowPlate><plateNo>경기70아8864</plateNo><plateType>3</plateType><remainSeatCnt>35</remainSeatCnt><routeId>204000070</routeId><stationId>102000058</stationId><stationSeq>30</stationSeq></busLocationList><busLocationList><endBus>0</endBus><lowPlate>0</lowPlate><plateNo>경기70아7333</plateNo><plateType>3</plateType><remainSeatCnt>27</remainSeatCnt><routeId>204000070</routeId><stationId>277103679</stationId><stationSeq>23</stationSeq></busLocationList><busLocationList><endBus>0</endBus><lowPlate>0</lowPlate><plateNo>경기78아1176</plateNo><plateType>3</plateType><remainSeatCnt>34</remainSeatCnt><routeId>204000070</routeId><stationId>102000057</stationId><stationSeq>41</stationSeq></busLocationList><busLocationList><endBus>0</endBus><lowPlate>0</lowPlate><plateNo>경기77바8400</plateNo><plateType>3</plateType><remainSeatCnt>30</remainSeatCnt><routeId>204000070</routeId><stationId>277103440</stationId><stationSeq>47</stationSeq></busLocationList></msgBody></response>\n"
          ]
        }
      ],
      "source": [
        "import requests\n",
        "url='http://openapi.gbis.go.kr/ws/rest/buslocationservice?serviceKey=1234567890&routeId=204000070'\n",
        "r = requests.get(url)\n",
        "print(r.text)"
      ]
    },
    {
      "cell_type": "code",
      "source": [
        "from bs4 import BeautifulSoup\n",
        "\n",
        "soup = BeautifulSoup(r.text, features=\"xml\")"
      ],
      "metadata": {
        "id": "ki_bgVl0gKDA"
      },
      "execution_count": 4,
      "outputs": []
    },
    {
      "cell_type": "code",
      "source": [
        "soup.find_all('stationId')"
      ],
      "metadata": {
        "colab": {
          "base_uri": "https://localhost:8080/"
        },
        "id": "lDvnf83LgQpJ",
        "outputId": "7fa8d67a-9c81-4558-b3cd-3c59723d945b"
      },
      "execution_count": 5,
      "outputs": [
        {
          "output_type": "execute_result",
          "data": {
            "text/plain": [
              "[<stationId>206000007</stationId>,\n",
              " <stationId>206000554</stationId>,\n",
              " <stationId>102000058</stationId>,\n",
              " <stationId>277103679</stationId>,\n",
              " <stationId>102000057</stationId>,\n",
              " <stationId>277103440</stationId>]"
            ]
          },
          "metadata": {},
          "execution_count": 5
        }
      ]
    }
  ]
}