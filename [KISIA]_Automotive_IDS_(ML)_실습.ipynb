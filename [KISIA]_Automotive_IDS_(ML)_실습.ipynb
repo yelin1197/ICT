{
  "nbformat": 4,
  "nbformat_minor": 0,
  "metadata": {
    "colab": {
      "provenance": [],
      "include_colab_link": true
    },
    "kernelspec": {
      "name": "python3",
      "display_name": "Python 3"
    },
    "language_info": {
      "name": "python"
    }
  },
  "cells": [
    {
      "cell_type": "markdown",
      "metadata": {
        "id": "view-in-github",
        "colab_type": "text"
      },
      "source": [
        "<a href=\"https://colab.research.google.com/github/yelin1197/ICT/blob/main/%5BKISIA%5D_Automotive_IDS_(ML)_%EC%8B%A4%EC%8A%B5.ipynb\" target=\"_parent\"><img src=\"https://colab.research.google.com/assets/colab-badge.svg\" alt=\"Open In Colab\"/></a>"
      ]
    },
    {
      "cell_type": "markdown",
      "source": [
        "# Download"
      ],
      "metadata": {
        "id": "MtmcvY4C3SL-"
      }
    },
    {
      "cell_type": "code",
      "source": [
        "# 구글 드라이브에 저장된 파일을 다운로드 하기 위한 라이브러리 설치\n",
        "!pip install gdown"
      ],
      "metadata": {
        "colab": {
          "base_uri": "https://localhost:8080/"
        },
        "id": "SCifSL7D7MIg",
        "outputId": "e00dd13d-a64e-4fdd-bdc7-b4be08d5a1ff"
      },
      "execution_count": 1,
      "outputs": [
        {
          "output_type": "stream",
          "name": "stdout",
          "text": [
            "Requirement already satisfied: gdown in /usr/local/lib/python3.10/dist-packages (5.1.0)\n",
            "Requirement already satisfied: beautifulsoup4 in /usr/local/lib/python3.10/dist-packages (from gdown) (4.12.3)\n",
            "Requirement already satisfied: filelock in /usr/local/lib/python3.10/dist-packages (from gdown) (3.15.4)\n",
            "Requirement already satisfied: requests[socks] in /usr/local/lib/python3.10/dist-packages (from gdown) (2.31.0)\n",
            "Requirement already satisfied: tqdm in /usr/local/lib/python3.10/dist-packages (from gdown) (4.66.4)\n",
            "Requirement already satisfied: soupsieve>1.2 in /usr/local/lib/python3.10/dist-packages (from beautifulsoup4->gdown) (2.5)\n",
            "Requirement already satisfied: charset-normalizer<4,>=2 in /usr/local/lib/python3.10/dist-packages (from requests[socks]->gdown) (3.3.2)\n",
            "Requirement already satisfied: idna<4,>=2.5 in /usr/local/lib/python3.10/dist-packages (from requests[socks]->gdown) (3.7)\n",
            "Requirement already satisfied: urllib3<3,>=1.21.1 in /usr/local/lib/python3.10/dist-packages (from requests[socks]->gdown) (2.0.7)\n",
            "Requirement already satisfied: certifi>=2017.4.17 in /usr/local/lib/python3.10/dist-packages (from requests[socks]->gdown) (2024.6.2)\n",
            "Requirement already satisfied: PySocks!=1.5.7,>=1.5.6 in /usr/local/lib/python3.10/dist-packages (from requests[socks]->gdown) (1.7.1)\n"
          ]
        }
      ]
    },
    {
      "cell_type": "code",
      "execution_count": 8,
      "metadata": {
        "colab": {
          "base_uri": "https://localhost:8080/"
        },
        "id": "zkYyYIxm3CZf",
        "outputId": "95a4b577-487d-484c-af19-2ea0e148235c"
      },
      "outputs": [
        {
          "output_type": "stream",
          "name": "stdout",
          "text": [
            "/usr/local/lib/python3.10/dist-packages/gdown/__main__.py:132: FutureWarning: Option `--id` was deprecated in version 4.3.1 and will be removed in 5.0. You don't need to pass it anymore to use a file ID.\n",
            "  warnings.warn(\n",
            "Downloading...\n",
            "From: https://drive.google.com/uc?id=1FTjcnWC8bXgN8AI0hT0l16KvardlOQEj\n",
            "To: /content/Sample_Train_Dataset.csv\n",
            "100% 15.7M/15.7M [00:00<00:00, 104MB/s] \n",
            "/usr/local/lib/python3.10/dist-packages/gdown/__main__.py:132: FutureWarning: Option `--id` was deprecated in version 4.3.1 and will be removed in 5.0. You don't need to pass it anymore to use a file ID.\n",
            "  warnings.warn(\n",
            "Downloading...\n",
            "From: https://drive.google.com/uc?id=1q_ALDNEsxsvA1hXoR7Mw3E90Nl5RjJDj\n",
            "To: /content/Sample_Test_Dataset.csv\n",
            "100% 13.6M/13.6M [00:00<00:00, 104MB/s] \n",
            "/usr/local/lib/python3.10/dist-packages/gdown/__main__.py:132: FutureWarning: Option `--id` was deprecated in version 4.3.1 and will be removed in 5.0. You don't need to pass it anymore to use a file ID.\n",
            "  warnings.warn(\n",
            "Downloading...\n",
            "From: https://drive.google.com/uc?id=1JOvqTZSlxgoCQInmRbsVVylBrs0SXjt6\n",
            "To: /content/Sample_Answer.csv\n",
            "100% 2.63M/2.63M [00:00<00:00, 132MB/s]\n"
          ]
        }
      ],
      "source": [
        "# Sample 파일 다운로드\n",
        "!gdown --id 1FTjcnWC8bXgN8AI0hT0l16KvardlOQEj --output Sample_Train_Dataset.csv\n",
        "!gdown --id 1q_ALDNEsxsvA1hXoR7Mw3E90Nl5RjJDj --output Sample_Test_Dataset.csv\n",
        "!gdown --id 1JOvqTZSlxgoCQInmRbsVVylBrs0SXjt6 --output Sample_Answer.csv"
      ]
    },
    {
      "cell_type": "code",
      "source": [
        "# 현재 디렉토리의 파일 목록 확인\n",
        "!ls"
      ],
      "metadata": {
        "colab": {
          "base_uri": "https://localhost:8080/"
        },
        "id": "VXLxe7PJ7O3A",
        "outputId": "1011d046-4eb2-4283-f7fe-44608471e87d"
      },
      "execution_count": 9,
      "outputs": [
        {
          "output_type": "stream",
          "name": "stdout",
          "text": [
            "Sample_Answer.csv  sample_data\tSample_Test_Dataset.csv  Sample_Train_Dataset.csv\n"
          ]
        }
      ]
    },
    {
      "cell_type": "markdown",
      "source": [
        "# Library"
      ],
      "metadata": {
        "id": "50tkDh9W3aFs"
      }
    },
    {
      "cell_type": "code",
      "source": [
        "# 라이브러리 호출\n",
        "import joblib\n",
        "import numpy as np\n",
        "import pandas as pd\n",
        "import seaborn as sns\n",
        "\n",
        "from sklearn.ensemble import RandomForestClassifier\n",
        "from sklearn.metrics import confusion_matrix, classification_report"
      ],
      "metadata": {
        "id": "Vk1x2IUh3biL"
      },
      "execution_count": 7,
      "outputs": []
    },
    {
      "cell_type": "markdown",
      "source": [
        "# Dataset"
      ],
      "metadata": {
        "id": "N2JmAQ6Z3jv9"
      }
    },
    {
      "cell_type": "code",
      "source": [
        "# Sample 파일 경로 설정\n",
        "sample_train_file = './Sample_Train_Dataset.csv'\n",
        "sample_test_file = './Sample_Test_Dataset.csv'\n",
        "sample_answer_file = './Sample_Answer.csv'"
      ],
      "metadata": {
        "id": "GUo36z1E3cWo"
      },
      "execution_count": 6,
      "outputs": []
    },
    {
      "cell_type": "markdown",
      "source": [
        "# Train"
      ],
      "metadata": {
        "id": "5lSL6nqr8Rem"
      }
    },
    {
      "cell_type": "code",
      "source": [
        "# Sample_Train_Dataset 파일 불러오기\n",
        "train_msg = pd.read_csv(sample_train_file)\n",
        "print(train_msg)"
      ],
      "metadata": {
        "colab": {
          "base_uri": "https://localhost:8080/"
        },
        "id": "w8i1IcZH8SaP",
        "outputId": "cadd1dc0-f051-4caf-95f0-ad215a3ccfc0"
      },
      "execution_count": 10,
      "outputs": [
        {
          "output_type": "stream",
          "name": "stdout",
          "text": [
            "         Timestamp Arbitration_ID  DLC                     Data   Class\n",
            "0         0.066729            316    8  45 32 1A 0A 32 28 00 7F  Normal\n",
            "1         0.066965            18F    8  FE 65 32 00 00 43 00 00  Normal\n",
            "2         0.067199             80    8  00 17 1A 0A 32 28 32 3C  Normal\n",
            "3         0.067438             81    8  40 84 89 00 00 00 00 3C  Normal\n",
            "4         0.067678            165    8  11 F8 7F 00 00 00 0A 9C  Normal\n",
            "...            ...            ...  ...                      ...     ...\n",
            "325227  143.297302            440    8  FF 00 00 00 FF 40 09 00  Normal\n",
            "325228  143.298875            316    8  45 32 CC 09 32 27 00 7F  Normal\n",
            "325229  143.299325            329    8  84 B1 7E 8C 11 36 00 10  Normal\n",
            "325230  143.299557            545    8  C8 13 00 8A 5B 00 5F 00  Normal\n",
            "325231  143.299795             80    8  00 17 CC 09 32 27 32 AA  Normal\n",
            "\n",
            "[325232 rows x 5 columns]\n"
          ]
        }
      ]
    },
    {
      "cell_type": "code",
      "source": [
        "# Feature를 생성하기 위한 전처리 함수 정의\n",
        "def preprocessing(msg):\n",
        "  df = pd.DataFrame(columns=['ID', 'D1', 'D2', 'D3', 'D4', 'D5', 'D6', 'D7', 'D8'])\n",
        "\n",
        "  # ID\n",
        "  df['ID'] = msg['Arbitration_ID'].apply(int, base=16)\n",
        "\n",
        "  # Data\n",
        "  _data = []\n",
        "  for i in msg['Data'].values:\n",
        "    line = i.split(' ')\n",
        "\n",
        "    if len(line) < 8:\n",
        "      line += ['00'] * (8 - len(line))\n",
        "\n",
        "    _data.append([int(l, 16) for l in line])\n",
        "  data = np.array(_data)\n",
        "\n",
        "  df['D1'] = data[:, 0]\n",
        "  df['D2'] = data[:, 1]\n",
        "  df['D3'] = data[:, 2]\n",
        "  df['D4'] = data[:, 3]\n",
        "  df['D5'] = data[:, 4]\n",
        "  df['D6'] = data[:, 5]\n",
        "  df['D7'] = data[:, 6]\n",
        "  df['D8'] = data[:, 7]\n",
        "\n",
        "  return df"
      ],
      "metadata": {
        "id": "P2_xU0-051xP"
      },
      "execution_count": 4,
      "outputs": []
    },
    {
      "cell_type": "code",
      "source": [
        "# 정의한 전처리 함수를 이용하여 모델의 입력으로 사용될 Feature를 생성\n",
        "train_feature = preprocessing(msg=train_msg)\n",
        "print(train_feature)"
      ],
      "metadata": {
        "colab": {
          "base_uri": "https://localhost:8080/"
        },
        "id": "o8Ibx7uVAYxl",
        "outputId": "30e83aef-ac4a-4362-bd5d-33d29f62a59e"
      },
      "execution_count": 11,
      "outputs": [
        {
          "output_type": "stream",
          "name": "stdout",
          "text": [
            "          ID   D1   D2   D3   D4   D5  D6  D7   D8\n",
            "0        790   69   50   26   10   50  40   0  127\n",
            "1        399  254  101   50    0    0  67   0    0\n",
            "2        128    0   23   26   10   50  40  50   60\n",
            "3        129   64  132  137    0    0   0   0   60\n",
            "4        357   17  248  127    0    0   0  10  156\n",
            "...      ...  ...  ...  ...  ...  ...  ..  ..  ...\n",
            "325227  1088  255    0    0    0  255  64   9    0\n",
            "325228   790   69   50  204    9   50  39   0  127\n",
            "325229   809  132  177  126  140   17  54   0   16\n",
            "325230  1349  200   19    0  138   91   0  95    0\n",
            "325231   128    0   23  204    9   50  39  50  170\n",
            "\n",
            "[325232 rows x 9 columns]\n"
          ]
        }
      ]
    },
    {
      "cell_type": "code",
      "source": [
        "# 모델의 학습을 위해 라벨링 진행 (Normal: 0 / Attack: 1)\n",
        "train_label = np.array([1 if i == 'Attack' else 0 for i in train_msg['Class'].values])\n",
        "print(train_label)"
      ],
      "metadata": {
        "colab": {
          "base_uri": "https://localhost:8080/"
        },
        "id": "vZPhMHJxV82O",
        "outputId": "6251ee2a-146a-4702-9888-6d9fbaa9f44e"
      },
      "execution_count": 12,
      "outputs": [
        {
          "output_type": "stream",
          "name": "stdout",
          "text": [
            "[0 0 0 ... 0 0 0]\n"
          ]
        }
      ]
    },
    {
      "cell_type": "code",
      "source": [
        "# Random Forest 모델 생성 및 학습\n",
        "rfc = RandomForestClassifier()\n",
        "rfc.fit(train_feature, train_label)"
      ],
      "metadata": {
        "colab": {
          "base_uri": "https://localhost:8080/",
          "height": 74
        },
        "id": "21D4drZi_idJ",
        "outputId": "1ee91cfa-0338-47d5-ef2f-630b957407a5"
      },
      "execution_count": 13,
      "outputs": [
        {
          "output_type": "execute_result",
          "data": {
            "text/plain": [
              "RandomForestClassifier()"
            ],
            "text/html": [
              "<style>#sk-container-id-1 {color: black;background-color: white;}#sk-container-id-1 pre{padding: 0;}#sk-container-id-1 div.sk-toggleable {background-color: white;}#sk-container-id-1 label.sk-toggleable__label {cursor: pointer;display: block;width: 100%;margin-bottom: 0;padding: 0.3em;box-sizing: border-box;text-align: center;}#sk-container-id-1 label.sk-toggleable__label-arrow:before {content: \"▸\";float: left;margin-right: 0.25em;color: #696969;}#sk-container-id-1 label.sk-toggleable__label-arrow:hover:before {color: black;}#sk-container-id-1 div.sk-estimator:hover label.sk-toggleable__label-arrow:before {color: black;}#sk-container-id-1 div.sk-toggleable__content {max-height: 0;max-width: 0;overflow: hidden;text-align: left;background-color: #f0f8ff;}#sk-container-id-1 div.sk-toggleable__content pre {margin: 0.2em;color: black;border-radius: 0.25em;background-color: #f0f8ff;}#sk-container-id-1 input.sk-toggleable__control:checked~div.sk-toggleable__content {max-height: 200px;max-width: 100%;overflow: auto;}#sk-container-id-1 input.sk-toggleable__control:checked~label.sk-toggleable__label-arrow:before {content: \"▾\";}#sk-container-id-1 div.sk-estimator input.sk-toggleable__control:checked~label.sk-toggleable__label {background-color: #d4ebff;}#sk-container-id-1 div.sk-label input.sk-toggleable__control:checked~label.sk-toggleable__label {background-color: #d4ebff;}#sk-container-id-1 input.sk-hidden--visually {border: 0;clip: rect(1px 1px 1px 1px);clip: rect(1px, 1px, 1px, 1px);height: 1px;margin: -1px;overflow: hidden;padding: 0;position: absolute;width: 1px;}#sk-container-id-1 div.sk-estimator {font-family: monospace;background-color: #f0f8ff;border: 1px dotted black;border-radius: 0.25em;box-sizing: border-box;margin-bottom: 0.5em;}#sk-container-id-1 div.sk-estimator:hover {background-color: #d4ebff;}#sk-container-id-1 div.sk-parallel-item::after {content: \"\";width: 100%;border-bottom: 1px solid gray;flex-grow: 1;}#sk-container-id-1 div.sk-label:hover label.sk-toggleable__label {background-color: #d4ebff;}#sk-container-id-1 div.sk-serial::before {content: \"\";position: absolute;border-left: 1px solid gray;box-sizing: border-box;top: 0;bottom: 0;left: 50%;z-index: 0;}#sk-container-id-1 div.sk-serial {display: flex;flex-direction: column;align-items: center;background-color: white;padding-right: 0.2em;padding-left: 0.2em;position: relative;}#sk-container-id-1 div.sk-item {position: relative;z-index: 1;}#sk-container-id-1 div.sk-parallel {display: flex;align-items: stretch;justify-content: center;background-color: white;position: relative;}#sk-container-id-1 div.sk-item::before, #sk-container-id-1 div.sk-parallel-item::before {content: \"\";position: absolute;border-left: 1px solid gray;box-sizing: border-box;top: 0;bottom: 0;left: 50%;z-index: -1;}#sk-container-id-1 div.sk-parallel-item {display: flex;flex-direction: column;z-index: 1;position: relative;background-color: white;}#sk-container-id-1 div.sk-parallel-item:first-child::after {align-self: flex-end;width: 50%;}#sk-container-id-1 div.sk-parallel-item:last-child::after {align-self: flex-start;width: 50%;}#sk-container-id-1 div.sk-parallel-item:only-child::after {width: 0;}#sk-container-id-1 div.sk-dashed-wrapped {border: 1px dashed gray;margin: 0 0.4em 0.5em 0.4em;box-sizing: border-box;padding-bottom: 0.4em;background-color: white;}#sk-container-id-1 div.sk-label label {font-family: monospace;font-weight: bold;display: inline-block;line-height: 1.2em;}#sk-container-id-1 div.sk-label-container {text-align: center;}#sk-container-id-1 div.sk-container {/* jupyter's `normalize.less` sets `[hidden] { display: none; }` but bootstrap.min.css set `[hidden] { display: none !important; }` so we also need the `!important` here to be able to override the default hidden behavior on the sphinx rendered scikit-learn.org. See: https://github.com/scikit-learn/scikit-learn/issues/21755 */display: inline-block !important;position: relative;}#sk-container-id-1 div.sk-text-repr-fallback {display: none;}</style><div id=\"sk-container-id-1\" class=\"sk-top-container\"><div class=\"sk-text-repr-fallback\"><pre>RandomForestClassifier()</pre><b>In a Jupyter environment, please rerun this cell to show the HTML representation or trust the notebook. <br />On GitHub, the HTML representation is unable to render, please try loading this page with nbviewer.org.</b></div><div class=\"sk-container\" hidden><div class=\"sk-item\"><div class=\"sk-estimator sk-toggleable\"><input class=\"sk-toggleable__control sk-hidden--visually\" id=\"sk-estimator-id-1\" type=\"checkbox\" checked><label for=\"sk-estimator-id-1\" class=\"sk-toggleable__label sk-toggleable__label-arrow\">RandomForestClassifier</label><div class=\"sk-toggleable__content\"><pre>RandomForestClassifier()</pre></div></div></div></div></div>"
            ]
          },
          "metadata": {},
          "execution_count": 13
        }
      ]
    },
    {
      "cell_type": "code",
      "source": [
        "# 학습시킨 Random Forest 모델 저장\n",
        "joblib.dump(rfc, './sample_random_forest_classifier.pkl')"
      ],
      "metadata": {
        "id": "xNi8uew4-S4-",
        "colab": {
          "base_uri": "https://localhost:8080/"
        },
        "outputId": "a200de13-44a7-445a-9f8e-aa732363fd24"
      },
      "execution_count": 14,
      "outputs": [
        {
          "output_type": "execute_result",
          "data": {
            "text/plain": [
              "['./sample_random_forest_classifier.pkl']"
            ]
          },
          "metadata": {},
          "execution_count": 14
        }
      ]
    },
    {
      "cell_type": "markdown",
      "source": [
        "# Test"
      ],
      "metadata": {
        "id": "i1d7GCSO8S0-"
      }
    },
    {
      "cell_type": "code",
      "source": [
        "# 학습시킨 Random Forest 모델 로드\n",
        "trained_rfc = joblib.load('./sample_random_forest_classifier.pkl')"
      ],
      "metadata": {
        "id": "F1BtIMxW_9tt"
      },
      "execution_count": 15,
      "outputs": []
    },
    {
      "cell_type": "code",
      "source": [
        "# Sample_Test_Dataset 파일 불러오기\n",
        "test_msg = pd.read_csv(sample_test_file)\n",
        "print(test_msg)"
      ],
      "metadata": {
        "id": "SxcUToJQANXb",
        "colab": {
          "base_uri": "https://localhost:8080/"
        },
        "outputId": "8759ad35-3c62-4c63-c9c7-466fc205c07c"
      },
      "execution_count": 16,
      "outputs": [
        {
          "output_type": "stream",
          "name": "stdout",
          "text": [
            "         Timestamp Arbitration_ID  DLC                     Data\n",
            "0         0.834348            690    8  03 00 01 10 80 00 24 04\n",
            "1         0.836906            4B1    8  00 00 00 00 00 00 00 00\n",
            "2         0.837154            164    8  00 08 00 00 00 00 0D 05\n",
            "3         0.837386            2A0    8  A2 00 84 9C 56 1F 86 05\n",
            "4         0.837621             80    8  00 17 64 0B 26 27 27 CD\n",
            "...            ...            ...  ...                      ...\n",
            "329159  156.680470             81    8  40 84 83 00 00 00 00 8D\n",
            "329160  156.680712            18F    8  00 53 1A 00 00 3F 00 00\n",
            "329161  156.680944            2A0    8  A2 00 83 9C 56 1F 86 05\n",
            "329162  156.681183            329    8  0F B2 7E 8C 11 30 00 10\n",
            "329163  156.681429            382    8  40 FE 0F 00 00 00 00 0C\n",
            "\n",
            "[329164 rows x 4 columns]\n"
          ]
        }
      ]
    },
    {
      "cell_type": "code",
      "source": [
        "# 정의한 전처리 함수를 이용하여 모델의 입력으로 사용될 Feature를 생성\n",
        "test_feature = preprocessing(msg=test_msg)\n",
        "print(test_feature)"
      ],
      "metadata": {
        "id": "G2uqJRbPAsRz",
        "colab": {
          "base_uri": "https://localhost:8080/"
        },
        "outputId": "9f2d341d-21d2-415d-b181-e3782dc8c566"
      },
      "execution_count": 17,
      "outputs": [
        {
          "output_type": "stream",
          "name": "stdout",
          "text": [
            "          ID   D1   D2   D3   D4   D5  D6   D7   D8\n",
            "0       1680    3    0    1   16  128   0   36    4\n",
            "1       1201    0    0    0    0    0   0    0    0\n",
            "2        356    0    8    0    0    0   0   13    5\n",
            "3        672  162    0  132  156   86  31  134    5\n",
            "4        128    0   23  100   11   38  39   39  205\n",
            "...      ...  ...  ...  ...  ...  ...  ..  ...  ...\n",
            "329159   129   64  132  131    0    0   0    0  141\n",
            "329160   399    0   83   26    0    0  63    0    0\n",
            "329161   672  162    0  131  156   86  31  134    5\n",
            "329162   809   15  178  126  140   17  48    0   16\n",
            "329163   898   64  254   15    0    0   0    0   12\n",
            "\n",
            "[329164 rows x 9 columns]\n"
          ]
        }
      ]
    },
    {
      "cell_type": "code",
      "source": [
        "# 학습시킨 Random Forest 모델로 예측\n",
        "pred_label = trained_rfc.predict(test_feature)\n",
        "print(pred_label)"
      ],
      "metadata": {
        "id": "VBUr2fcmB4uJ",
        "colab": {
          "base_uri": "https://localhost:8080/"
        },
        "outputId": "2b555549-cc2b-4fb4-f43c-8a208a1ed5fd"
      },
      "execution_count": 18,
      "outputs": [
        {
          "output_type": "stream",
          "name": "stdout",
          "text": [
            "[0 0 0 ... 0 0 0]\n"
          ]
        }
      ]
    },
    {
      "cell_type": "markdown",
      "source": [
        "# Submission"
      ],
      "metadata": {
        "id": "Tdt4YVIkD3RC"
      }
    },
    {
      "cell_type": "code",
      "source": [
        "# 예측 결과 파일 생성\n",
        "submission = pd.DataFrame(columns=['Number', 'Class'])\n",
        "submission['Number'] = test_msg.index + 1\n",
        "submission['Class'] = pred_label\n",
        "submission.to_csv('./sample_submission.csv', index=False)\n",
        "print(submission)"
      ],
      "metadata": {
        "id": "lll653CjEFbx",
        "colab": {
          "base_uri": "https://localhost:8080/"
        },
        "outputId": "7f8aed1b-afc9-445c-c4c6-95780971753f"
      },
      "execution_count": 19,
      "outputs": [
        {
          "output_type": "stream",
          "name": "stdout",
          "text": [
            "        Number  Class\n",
            "0            1      0\n",
            "1            2      0\n",
            "2            3      0\n",
            "3            4      0\n",
            "4            5      0\n",
            "...        ...    ...\n",
            "329159  329160      0\n",
            "329160  329161      0\n",
            "329161  329162      0\n",
            "329162  329163      0\n",
            "329163  329164      0\n",
            "\n",
            "[329164 rows x 2 columns]\n"
          ]
        }
      ]
    },
    {
      "cell_type": "code",
      "source": [
        "# 학습시킨 모델이 예측한 값 확인\n",
        "pred_label = submission['Class'].values\n",
        "print(pred_label)"
      ],
      "metadata": {
        "id": "58HU-ArCD406",
        "colab": {
          "base_uri": "https://localhost:8080/"
        },
        "outputId": "0a073293-2dda-41f8-cbb4-c3169ae3223a"
      },
      "execution_count": 20,
      "outputs": [
        {
          "output_type": "stream",
          "name": "stdout",
          "text": [
            "[0 0 0 ... 0 0 0]\n"
          ]
        }
      ]
    },
    {
      "cell_type": "code",
      "source": [
        "# Sample_Answer 파일 불러오기\n",
        "answer = pd.read_csv(sample_answer_file)\n",
        "\n",
        "true_label = np.array([1 if i == 'Attack' else 0 for i in answer['Class'].values])\n",
        "print(true_label)"
      ],
      "metadata": {
        "id": "5qIFmwVILucn",
        "colab": {
          "base_uri": "https://localhost:8080/"
        },
        "outputId": "b5f75934-dd63-41df-96ca-8e8697a69526"
      },
      "execution_count": 21,
      "outputs": [
        {
          "output_type": "stream",
          "name": "stdout",
          "text": [
            "[0 0 0 ... 0 0 0]\n"
          ]
        }
      ]
    },
    {
      "cell_type": "code",
      "source": [
        "# 학습시킨 모델의 예측값과 실제값의 교차표 확인\n",
        "ax = confusion_matrix(true_label, pred_label)\n",
        "sns.heatmap(ax, annot=True, fmt='d', cmap='Blues')"
      ],
      "metadata": {
        "id": "MP18u7qEIP8W",
        "colab": {
          "base_uri": "https://localhost:8080/",
          "height": 448
        },
        "outputId": "8ddee667-3015-4a30-f1d9-059e8d35885e"
      },
      "execution_count": 22,
      "outputs": [
        {
          "output_type": "execute_result",
          "data": {
            "text/plain": [
              "<Axes: >"
            ]
          },
          "metadata": {},
          "execution_count": 22
        },
        {
          "output_type": "display_data",
          "data": {
            "text/plain": [
              "<Figure size 640x480 with 2 Axes>"
            ],
            "image/png": "[encoded data removed]"
          },
          "metadata": {}
        }
      ]
    },
    {
      "cell_type": "code",
      "source": [
        "# 학습시킨 모델의 평가 지표 확인\n",
        "print(classification_report(true_label, pred_label, target_names=['Normal', 'Attack']))"
      ],
      "metadata": {
        "id": "GhJnrslICF1N",
        "colab": {
          "base_uri": "https://localhost:8080/"
        },
        "outputId": "31c20e09-7367-4297-e623-dd7398542028"
      },
      "execution_count": 23,
      "outputs": [
        {
          "output_type": "stream",
          "name": "stdout",
          "text": [
            "              precision    recall  f1-score   support\n",
            "\n",
            "      Normal       0.98      0.92      0.95    306239\n",
            "      Attack       0.43      0.78      0.55     22925\n",
            "\n",
            "    accuracy                           0.91    329164\n",
            "   macro avg       0.70      0.85      0.75    329164\n",
            "weighted avg       0.94      0.91      0.92    329164\n",
            "\n"
          ]
        }
      ]
    },
    {
      "cell_type": "markdown",
      "source": [
        "# Mini Challenge\n",
        "\n",
        "*   제출 : axolotl0210@gmail.com"
      ],
      "metadata": {
        "id": "7rvxpT_iDTjG"
      }
    },
    {
      "cell_type": "markdown",
      "source": [
        "## Download"
      ],
      "metadata": {
        "id": "dzSsRkZbrFG9"
      }
    },
    {
      "cell_type": "code",
      "source": [
        "# Mini Challenge 파일 다운로드\n",
        "!gdown --id 1J3D7LD_pEHE6BdsMNV8n89YbJSpyuoXB --output Mini_Challenge_Train_Dataset.csv\n",
        "!gdown --id 1DwFZ1qTCTfH7eEvKHzAHuNkO0qCG91NG --output Mini_Challenge_Test_Dataset.csv"
      ],
      "metadata": {
        "id": "1fFoO5GY-DH6",
        "colab": {
          "base_uri": "https://localhost:8080/"
        },
        "outputId": "642cf84b-8c77-4f19-fef4-8c1a4a02f48e"
      },
      "execution_count": 24,
      "outputs": [
        {
          "output_type": "stream",
          "name": "stdout",
          "text": [
            "/usr/local/lib/python3.10/dist-packages/gdown/__main__.py:132: FutureWarning: Option `--id` was deprecated in version 4.3.1 and will be removed in 5.0. You don't need to pass it anymore to use a file ID.\n",
            "  warnings.warn(\n",
            "Downloading...\n",
            "From: https://drive.google.com/uc?id=1J3D7LD_pEHE6BdsMNV8n89YbJSpyuoXB\n",
            "To: /content/Mini_Challenge_Train_Dataset.csv\n",
            "100% 25.7M/25.7M [00:00<00:00, 128MB/s] \n",
            "/usr/local/lib/python3.10/dist-packages/gdown/__main__.py:132: FutureWarning: Option `--id` was deprecated in version 4.3.1 and will be removed in 5.0. You don't need to pass it anymore to use a file ID.\n",
            "  warnings.warn(\n",
            "Downloading...\n",
            "From: https://drive.google.com/uc?id=1DwFZ1qTCTfH7eEvKHzAHuNkO0qCG91NG\n",
            "To: /content/Mini_Challenge_Test_Dataset.csv\n",
            "100% 16.2M/16.2M [00:00<00:00, 99.4MB/s]\n"
          ]
        }
      ]
    },
    {
      "cell_type": "code",
      "source": [
        "# 현재 디렉토리의 파일 목록 확인\n",
        "!ls"
      ],
      "metadata": {
        "id": "XbFg0Q2IDrZb",
        "colab": {
          "base_uri": "https://localhost:8080/"
        },
        "outputId": "ea4266ef-38f9-41b2-af2d-e0b4839fc837"
      },
      "execution_count": 25,
      "outputs": [
        {
          "output_type": "stream",
          "name": "stdout",
          "text": [
            "Mini_Challenge_Test_Dataset.csv   sample_data\t\t\t       Sample_Test_Dataset.csv\n",
            "Mini_Challenge_Train_Dataset.csv  sample_random_forest_classifier.pkl  Sample_Train_Dataset.csv\n",
            "Sample_Answer.csv\t\t  sample_submission.csv\n"
          ]
        }
      ]
    },
    {
      "cell_type": "markdown",
      "source": [
        "## Dataset"
      ],
      "metadata": {
        "id": "8f3Y-t6WG-MJ"
      }
    },
    {
      "cell_type": "code",
      "source": [
        "# Mini Challenge 파일 경로 설정\n",
        "mini_challenge_train_file = './Mini_Challenge_Train_Dataset.csv'\n",
        "mini_challenge_test_file = './Mini_Challenge_Test_Dataset.csv'"
      ],
      "metadata": {
        "id": "mtFldtSiFwlU"
      },
      "execution_count": 26,
      "outputs": []
    },
    {
      "cell_type": "code",
      "source": [
        "# Mini_Challenge_Train_Dataset 파일 불러오기\n",
        "mini_challenge_train_msg = pd.read_csv(mini_challenge_train_file)\n",
        "print(mini_challenge_train_msg)"
      ],
      "metadata": {
        "id": "dmHs-DvNaaHt",
        "colab": {
          "base_uri": "https://localhost:8080/"
        },
        "outputId": "46d25a0f-777e-4ef0-c3f2-574b62ccc29c"
      },
      "execution_count": 27,
      "outputs": [
        {
          "output_type": "stream",
          "name": "stdout",
          "text": [
            "         Timestamp Arbitration_ID  DLC                     Data   Class\n",
            "0         0.803366            153    8  00 80 10 FF 00 FF 90 1E  Normal\n",
            "1         0.803602            220    8  AA 03 27 04 09 00 39 10  Normal\n",
            "2         0.804306             34    8  00 00 00 00 00 00 00 00  Normal\n",
            "3         0.805939            2B0    5           1C 00 00 07 C6  Normal\n",
            "4         0.806180            165    8  08 08 80 00 00 00 06 86  Normal\n",
            "...            ...            ...  ...                      ...     ...\n",
            "527788  243.594317             80    8  00 17 EC 09 17 11 18 7B  Normal\n",
            "527789  243.594557             81    8  40 84 8A 00 00 00 00 3B  Normal\n",
            "527790  243.594792            2A0    8  62 00 8A 9C 48 1F 86 05  Normal\n",
            "527791  243.595026            329    8  40 BE 7E 8C 11 2F 00 10  Normal\n",
            "527792  243.595260            545    8  C8 0B 00 8B 2B 00 2E 00  Normal\n",
            "\n",
            "[527793 rows x 5 columns]\n"
          ]
        }
      ]
    },
    {
      "cell_type": "markdown",
      "source": [
        "## Preprocessing"
      ],
      "metadata": {
        "id": "kD2rMSxOqtH6"
      }
    },
    {
      "cell_type": "code",
      "source": [
        "# Feature를 생성하기 위한 전처리 함수 정의\n",
        "def challenge_preprocessing(msg):\n",
        "  feature = pd.DataFrame(columns=['CAN ID',\n",
        "                                  'DLC'])\n",
        "\n",
        "  # CAN ID\n",
        "  can_id = [int(i, 16) / 0x7ff for i in msg['Arbitration_ID'].values]\n",
        "  feature['CAN ID'] = can_id\n",
        "\n",
        "  # DLC\n",
        "  dlc = [i / 8 for i in msg['DLC'].values]\n",
        "  feature['DLC'] = dlc\n",
        "\n",
        "  \"\"\"\n",
        "  Feature 추가\n",
        "\n",
        "  \"\"\"\n",
        "\n",
        "  return feature"
      ],
      "metadata": {
        "id": "5OXlGZfuhd3C"
      },
      "execution_count": 28,
      "outputs": []
    },
    {
      "cell_type": "markdown",
      "source": [
        "## Model"
      ],
      "metadata": {
        "id": "8vAhXtlFqydK"
      }
    },
    {
      "cell_type": "code",
      "source": [
        "# Random Forest 모델 생성\n",
        "mini_challenge_rfc = RandomForestClassifier()"
      ],
      "metadata": {
        "id": "0U_hzJVXwR_n"
      },
      "execution_count": 29,
      "outputs": []
    },
    {
      "cell_type": "markdown",
      "source": [
        "## Train"
      ],
      "metadata": {
        "id": "sOLRDJ6pqz79"
      }
    },
    {
      "cell_type": "code",
      "source": [
        "# 정의한 전처리 함수를 이용하여 모델의 입력으로 사용될 Feature를 생성\n",
        "mini_challenge_train_feature = challenge_preprocessing(msg=mini_challenge_train_msg)\n",
        "print(mini_challenge_train_feature)"
      ],
      "metadata": {
        "id": "mXt3ezGgwNJe",
        "colab": {
          "base_uri": "https://localhost:8080/"
        },
        "outputId": "29768db2-843e-42d8-9ef8-629122721894"
      },
      "execution_count": 30,
      "outputs": [
        {
          "output_type": "stream",
          "name": "stdout",
          "text": [
            "          CAN ID    DLC\n",
            "0       0.165608  1.000\n",
            "1       0.265755  1.000\n",
            "2       0.025403  1.000\n",
            "3       0.336102  0.625\n",
            "4       0.174402  1.000\n",
            "...          ...    ...\n",
            "527788  0.062531  1.000\n",
            "527789  0.063019  1.000\n",
            "527790  0.328285  1.000\n",
            "527791  0.395213  1.000\n",
            "527792  0.659013  1.000\n",
            "\n",
            "[527793 rows x 2 columns]\n"
          ]
        }
      ]
    },
    {
      "cell_type": "code",
      "source": [
        "# 모델의 학습을 위해 라벨링 진행 (Normal: 0 / Attack: 1)\n",
        "mini_challenge_train_label = np.array([1 if i == 'Attack' else 0 for i in mini_challenge_train_msg['Class'].values])\n",
        "print(mini_challenge_train_label)"
      ],
      "metadata": {
        "id": "xE28evRMxMpX",
        "colab": {
          "base_uri": "https://localhost:8080/"
        },
        "outputId": "11e4f853-1027-42fe-c201-e24060f7faaa"
      },
      "execution_count": 31,
      "outputs": [
        {
          "output_type": "stream",
          "name": "stdout",
          "text": [
            "[0 0 0 ... 0 0 0]\n"
          ]
        }
      ]
    },
    {
      "cell_type": "code",
      "source": [
        "# Random Forest 모델 학습\n",
        "mini_challenge_rfc.fit(mini_challenge_train_feature, mini_challenge_train_label)"
      ],
      "metadata": {
        "id": "4XUij6yUxCyg",
        "colab": {
          "base_uri": "https://localhost:8080/",
          "height": 74
        },
        "outputId": "7d256803-c950-4040-d08e-ef69a98f77ef"
      },
      "execution_count": 32,
      "outputs": [
        {
          "output_type": "execute_result",
          "data": {
            "text/plain": [
              "RandomForestClassifier()"
            ],
            "text/html": [
              "<style>#sk-container-id-2 {color: black;background-color: white;}#sk-container-id-2 pre{padding: 0;}#sk-container-id-2 div.sk-toggleable {background-color: white;}#sk-container-id-2 label.sk-toggleable__label {cursor: pointer;display: block;width: 100%;margin-bottom: 0;padding: 0.3em;box-sizing: border-box;text-align: center;}#sk-container-id-2 label.sk-toggleable__label-arrow:before {content: \"▸\";float: left;margin-right: 0.25em;color: #696969;}#sk-container-id-2 label.sk-toggleable__label-arrow:hover:before {color: black;}#sk-container-id-2 div.sk-estimator:hover label.sk-toggleable__label-arrow:before {color: black;}#sk-container-id-2 div.sk-toggleable__content {max-height: 0;max-width: 0;overflow: hidden;text-align: left;background-color: #f0f8ff;}#sk-container-id-2 div.sk-toggleable__content pre {margin: 0.2em;color: black;border-radius: 0.25em;background-color: #f0f8ff;}#sk-container-id-2 input.sk-toggleable__control:checked~div.sk-toggleable__content {max-height: 200px;max-width: 100%;overflow: auto;}#sk-container-id-2 input.sk-toggleable__control:checked~label.sk-toggleable__label-arrow:before {content: \"▾\";}#sk-container-id-2 div.sk-estimator input.sk-toggleable__control:checked~label.sk-toggleable__label {background-color: #d4ebff;}#sk-container-id-2 div.sk-label input.sk-toggleable__control:checked~label.sk-toggleable__label {background-color: #d4ebff;}#sk-container-id-2 input.sk-hidden--visually {border: 0;clip: rect(1px 1px 1px 1px);clip: rect(1px, 1px, 1px, 1px);height: 1px;margin: -1px;overflow: hidden;padding: 0;position: absolute;width: 1px;}#sk-container-id-2 div.sk-estimator {font-family: monospace;background-color: #f0f8ff;border: 1px dotted black;border-radius: 0.25em;box-sizing: border-box;margin-bottom: 0.5em;}#sk-container-id-2 div.sk-estimator:hover {background-color: #d4ebff;}#sk-container-id-2 div.sk-parallel-item::after {content: \"\";width: 100%;border-bottom: 1px solid gray;flex-grow: 1;}#sk-container-id-2 div.sk-label:hover label.sk-toggleable__label {background-color: #d4ebff;}#sk-container-id-2 div.sk-serial::before {content: \"\";position: absolute;border-left: 1px solid gray;box-sizing: border-box;top: 0;bottom: 0;left: 50%;z-index: 0;}#sk-container-id-2 div.sk-serial {display: flex;flex-direction: column;align-items: center;background-color: white;padding-right: 0.2em;padding-left: 0.2em;position: relative;}#sk-container-id-2 div.sk-item {position: relative;z-index: 1;}#sk-container-id-2 div.sk-parallel {display: flex;align-items: stretch;justify-content: center;background-color: white;position: relative;}#sk-container-id-2 div.sk-item::before, #sk-container-id-2 div.sk-parallel-item::before {content: \"\";position: absolute;border-left: 1px solid gray;box-sizing: border-box;top: 0;bottom: 0;left: 50%;z-index: -1;}#sk-container-id-2 div.sk-parallel-item {display: flex;flex-direction: column;z-index: 1;position: relative;background-color: white;}#sk-container-id-2 div.sk-parallel-item:first-child::after {align-self: flex-end;width: 50%;}#sk-container-id-2 div.sk-parallel-item:last-child::after {align-self: flex-start;width: 50%;}#sk-container-id-2 div.sk-parallel-item:only-child::after {width: 0;}#sk-container-id-2 div.sk-dashed-wrapped {border: 1px dashed gray;margin: 0 0.4em 0.5em 0.4em;box-sizing: border-box;padding-bottom: 0.4em;background-color: white;}#sk-container-id-2 div.sk-label label {font-family: monospace;font-weight: bold;display: inline-block;line-height: 1.2em;}#sk-container-id-2 div.sk-label-container {text-align: center;}#sk-container-id-2 div.sk-container {/* jupyter's `normalize.less` sets `[hidden] { display: none; }` but bootstrap.min.css set `[hidden] { display: none !important; }` so we also need the `!important` here to be able to override the default hidden behavior on the sphinx rendered scikit-learn.org. See: https://github.com/scikit-learn/scikit-learn/issues/21755 */display: inline-block !important;position: relative;}#sk-container-id-2 div.sk-text-repr-fallback {display: none;}</style><div id=\"sk-container-id-2\" class=\"sk-top-container\"><div class=\"sk-text-repr-fallback\"><pre>RandomForestClassifier()</pre><b>In a Jupyter environment, please rerun this cell to show the HTML representation or trust the notebook. <br />On GitHub, the HTML representation is unable to render, please try loading this page with nbviewer.org.</b></div><div class=\"sk-container\" hidden><div class=\"sk-item\"><div class=\"sk-estimator sk-toggleable\"><input class=\"sk-toggleable__control sk-hidden--visually\" id=\"sk-estimator-id-2\" type=\"checkbox\" checked><label for=\"sk-estimator-id-2\" class=\"sk-toggleable__label sk-toggleable__label-arrow\">RandomForestClassifier</label><div class=\"sk-toggleable__content\"><pre>RandomForestClassifier()</pre></div></div></div></div></div>"
            ]
          },
          "metadata": {},
          "execution_count": 32
        }
      ]
    },
    {
      "cell_type": "code",
      "source": [
        "# 학습시킨 Random Forest 모델 저장\n",
        "joblib.dump(mini_challenge_rfc, './mini_challenge_random_forest_classifier.pkl')"
      ],
      "metadata": {
        "id": "HYaVE5LyxjXP",
        "colab": {
          "base_uri": "https://localhost:8080/"
        },
        "outputId": "62e5102d-51ab-47b2-b3d8-977c8383455e"
      },
      "execution_count": 33,
      "outputs": [
        {
          "output_type": "execute_result",
          "data": {
            "text/plain": [
              "['./mini_challenge_random_forest_classifier.pkl']"
            ]
          },
          "metadata": {},
          "execution_count": 33
        }
      ]
    },
    {
      "cell_type": "markdown",
      "source": [
        "## Test"
      ],
      "metadata": {
        "id": "779rGrMBq5SH"
      }
    },
    {
      "cell_type": "code",
      "source": [
        "# 학습시킨 Random Forest 모델 로드\n",
        "trained_mini_challenge_rfc = joblib.load('./mini_challenge_random_forest_classifier.pkl')"
      ],
      "metadata": {
        "id": "WweEEldG0q5p"
      },
      "execution_count": 34,
      "outputs": []
    },
    {
      "cell_type": "code",
      "source": [
        "# Mini_Challenge_Test_Dataset 파일 불러오기\n",
        "mini_challenge_test_msg = pd.read_csv(mini_challenge_test_file)\n",
        "print(mini_challenge_test_msg)"
      ],
      "metadata": {
        "id": "hEyIuKz9cGmh",
        "colab": {
          "base_uri": "https://localhost:8080/"
        },
        "outputId": "3e54f71d-0930-4f19-f717-09bc0e7c9da2"
      },
      "execution_count": 35,
      "outputs": [
        {
          "output_type": "stream",
          "name": "stdout",
          "text": [
            "         Timestamp Arbitration_ID  DLC                     Data\n",
            "0         0.812181            43F    8  00 40 60 FF 74 84 0A 00\n",
            "1         0.812421            370    8  FF 20 00 80 FF 00 00 EC\n",
            "2         0.812669            440    8  FF F0 00 00 FF 88 0A 00\n",
            "3         0.814001            4B0    8  00 00 00 00 00 00 00 00\n",
            "4         0.814249            164    8  00 08 00 00 00 00 00 08\n",
            "...            ...            ...  ...                      ...\n",
            "390373  181.733643            1F1    8  08 00 00 00 00 00 00 00\n",
            "390374  181.733881            220    8  A5 03 26 04 09 00 3A 10\n",
            "390375  181.734126            370    8  FF 20 00 80 FF 00 00 28\n",
            "390376  181.734363            43F    8  00 40 60 FF 74 70 09 00\n",
            "390377  181.734604            440    8  FF A0 00 00 FF 74 09 00\n",
            "\n",
            "[390378 rows x 4 columns]\n"
          ]
        }
      ]
    },
    {
      "cell_type": "code",
      "source": [
        "# 정의한 전처리 함수를 이용하여 모델의 입력으로 사용될 Feature를 생성\n",
        "mini_challenge_test_feature = challenge_preprocessing(msg=mini_challenge_test_msg)\n",
        "print(mini_challenge_test_feature)"
      ],
      "metadata": {
        "id": "QN5HAgDgxxsj",
        "colab": {
          "base_uri": "https://localhost:8080/"
        },
        "outputId": "19d42c6c-5441-43de-f24d-6732b3051fc0"
      },
      "execution_count": 36,
      "outputs": [
        {
          "output_type": "stream",
          "name": "stdout",
          "text": [
            "          CAN ID  DLC\n",
            "0       0.531021  1.0\n",
            "1       0.429897  1.0\n",
            "2       0.531510  1.0\n",
            "3       0.586224  1.0\n",
            "4       0.173913  1.0\n",
            "...          ...  ...\n",
            "390373  0.242794  1.0\n",
            "390374  0.265755  1.0\n",
            "390375  0.429897  1.0\n",
            "390376  0.531021  1.0\n",
            "390377  0.531510  1.0\n",
            "\n",
            "[390378 rows x 2 columns]\n"
          ]
        }
      ]
    },
    {
      "cell_type": "code",
      "source": [
        "# 학습시킨 Random Forest 모델로 예측\n",
        "mini_challenge_pred_label = trained_mini_challenge_rfc.predict(mini_challenge_test_feature)\n",
        "print(mini_challenge_pred_label)"
      ],
      "metadata": {
        "id": "5mPEif1jwp_1",
        "colab": {
          "base_uri": "https://localhost:8080/"
        },
        "outputId": "e1032e27-aa34-4735-bc29-41987e25a0de"
      },
      "execution_count": 37,
      "outputs": [
        {
          "output_type": "stream",
          "name": "stdout",
          "text": [
            "[0 0 0 ... 0 0 0]\n"
          ]
        }
      ]
    },
    {
      "cell_type": "markdown",
      "source": [
        "## Submission"
      ],
      "metadata": {
        "id": "u1OJvsxsq7qq"
      }
    },
    {
      "cell_type": "code",
      "source": [
        "# 예측 결과 파일 생성\n",
        "submission = pd.DataFrame(columns=['Number', 'Class'])\n",
        "submission['Number'] = mini_challenge_test_msg.index + 1\n",
        "submission['Class'] = mini_challenge_pred_label\n",
        "submission.to_csv('./mini_challenge_submission.csv', index=False)\n",
        "print(submission)"
      ],
      "metadata": {
        "id": "6AQ0I9zRx6Pk",
        "colab": {
          "base_uri": "https://localhost:8080/"
        },
        "outputId": "240c4766-1f05-4674-a8e1-307ceff4b0b4"
      },
      "execution_count": 38,
      "outputs": [
        {
          "output_type": "stream",
          "name": "stdout",
          "text": [
            "        Number  Class\n",
            "0            1      0\n",
            "1            2      0\n",
            "2            3      0\n",
            "3            4      0\n",
            "4            5      0\n",
            "...        ...    ...\n",
            "390373  390374      0\n",
            "390374  390375      0\n",
            "390375  390376      0\n",
            "390376  390377      0\n",
            "390377  390378      0\n",
            "\n",
            "[390378 rows x 2 columns]\n"
          ]
        }
      ]
    },
    {
      "cell_type": "code",
      "source": [],
      "metadata": {
        "id": "CMF3Vt8dyAAN"
      },
      "execution_count": null,
      "outputs": []
    }
  ]
}