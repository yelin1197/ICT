{
  "nbformat": 4,
  "nbformat_minor": 0,
  "metadata": {
    "colab": {
      "provenance": [],
      "authorship_tag": "ABX9TyP6ArtkPoYCdpSRFt04dAAf",
      "include_colab_link": true
    },
    "kernelspec": {
      "name": "python3",
      "display_name": "Python 3"
    },
    "language_info": {
      "name": "python"
    }
  },
  "cells": [
    {
      "cell_type": "markdown",
      "metadata": {
        "id": "view-in-github",
        "colab_type": "text"
      },
      "source": [
        "<a href=\"https://colab.research.google.com/github/yelin1197/ICT/blob/main/culture.ipynb\" target=\"_parent\"><img src=\"https://colab.research.google.com/assets/colab-badge.svg\" alt=\"Open In Colab\"/></a>"
      ]
    },
    {
      "cell_type": "code",
      "execution_count": 11,
      "metadata": {
        "colab": {
          "base_uri": "https://localhost:8080/"
        },
        "id": "4OlFts5uFD2W",
        "outputId": "d13bce39-22f5-4337-ea1e-8c840990af7f"
      },
      "outputs": [
        {
          "output_type": "stream",
          "name": "stdout",
          "text": [
            "b'<?xml version=\"1.0\" encoding=\"utf-8\"?>\\r\\n\\r\\n\\r\\n<response>\\r\\n\\t<header>\\r\\n\\t\\t<resultCode>00</resultCode>\\r\\n\\t\\t<resultMsg>NORMAL SERVICE.</resultMsg>\\r\\n\\t</header>\\r\\n\\t<body>\\r\\n\\t\\t<totalCount>0</totalCount>\\r\\n\\t\\t<totalPage></totalPage>\\r\\n\\t\\t<pageNo>1</pageNo>\\r\\n\\t\\t<numOfRows>10</numOfRows>\\r\\n\\t\\t<items>\\r\\n\\t\\t\\t\\r\\n\\t\\t</items>\\r\\n\\t</body>\\r\\n</response>'\n"
          ]
        }
      ],
      "source": [
        "import requests\n",
        "\n",
        "url = 'http://apis.data.go.kr/1550246/recodeImageView/recodeImageList'\n",
        "params ={'serviceKey' : 'KAiypFjPcZjr22z4deRdHPyob14KB7fiUgtGKPMKD2AKaELvWeC8FHnnexi4IMuWApJAl5OwOPZUmOwNHOMHPg==', 'pageNo' : '1', 'numOfRows' : '10', 'nihcItmNm' : '합체 완료', 'nihcOdCd' : '1' }\n",
        "\n",
        "response = requests.get(url, params = params)\n",
        "print(response.content)"
      ]
    },
    {
      "cell_type": "code",
      "source": [
        "from bs4 import BeautifulSoup\n",
        "\n",
        "soup = BeautifulSoup(response.text, features=\"xml\")"
      ],
      "metadata": {
        "id": "Na12droBeZDx"
      },
      "execution_count": 14,
      "outputs": []
    },
    {
      "cell_type": "code",
      "source": [
        "soup.find_all('resultCode')"
      ],
      "metadata": {
        "colab": {
          "base_uri": "https://localhost:8080/"
        },
        "id": "GsO9ObQ4glLF",
        "outputId": "b2635f49-d368-4411-dc52-bc17973a2ff3"
      },
      "execution_count": 20,
      "outputs": [
        {
          "output_type": "execute_result",
          "data": {
            "text/plain": [
              "[<resultCode>00</resultCode>]"
            ]
          },
          "metadata": {},
          "execution_count": 20
        }
      ]
    }
  ]
}